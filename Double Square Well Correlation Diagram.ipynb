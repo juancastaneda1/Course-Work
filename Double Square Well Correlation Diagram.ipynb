{
 "cells": [
  {
   "cell_type": "markdown",
   "metadata": {},
   "source": [
    "# Double Square Well Correlation Diagram\n",
    "\n",
    "This notebook solves the transcendental eigenvalue equation for a single fermion in a double square well potential at different values of well separation in order to plot the correlation diagram. Both wells are of the same width."
   ]
  },
  {
   "cell_type": "code",
   "execution_count": 1,
   "metadata": {},
   "outputs": [],
   "source": [
    "import numpy as np\n",
    "import matplotlib.pyplot as plt\n",
    "from scipy.optimize import fsolve"
   ]
  },
  {
   "cell_type": "markdown",
   "metadata": {},
   "source": [
    "## Transcendental Eigenvalue Equation\n",
    "\n",
    "The transcendental eigenvalue equation consists of equations 13.6, 13.7, and 13.15 in the textbook (Quantum States of Atoms, Molecules and Solids by Morrison, Estle, and Lane)\n",
    "\n",
    "Variables:\n",
    "\n",
    "- E: energy of a bound state\n",
    "- d: well separation\n",
    "- a: well width\n",
    "- V0: depth of the potential wells\n",
    "- m: mass of particle\n",
    "\n",
    "\n",
    "#### Note that the width of the well and the mass of the particle are set to 1 for simplicity"
   ]
  },
  {
   "cell_type": "code",
   "execution_count": 2,
   "metadata": {},
   "outputs": [],
   "source": [
    "def alpha(E, m):\n",
    "    '''\n",
    "    Equation 13.6\n",
    "    '''\n",
    "    \n",
    "    return np.sqrt(2*m*E)/hbar\n",
    "\n",
    "def beta(E, V0, m):    \n",
    "    '''\n",
    "    Equation 13.7\n",
    "    '''\n",
    "    \n",
    "    return np.sqrt(2*m*(V0-E))/hbar\n",
    "\n",
    "def EigenvalueEquationEven(E, d, a, V0, m):\n",
    "    '''\n",
    "    Equation 13.15 for even states\n",
    "    \n",
    "    This equation is written in the form term1*term2 - term3 because scipy.optimize.solve() requires \n",
    "    the function to be in the form f(x) = 0 (or f(E, args) = 0 in our case)\n",
    "    '''\n",
    "    \n",
    "    term1 = beta(E, V0, m) + alpha(E, m)*( 1/np.tan( alpha(E, m)*a/2 ) )\n",
    "    \n",
    "    term2 = beta(E, V0, m) - alpha(E, m)*np.tan(alpha(E, m)*a/2)\n",
    "    \n",
    "    # Even solutions:\n",
    "    term3 = (alpha(E, m)**2 + beta(E, V0, m)**2)*np.exp(-1*beta(E, V0, m)*d)\n",
    "    \n",
    "    return term1*term2 - term3  \n",
    "\n",
    "def EigenvalueEquationOdd(E, d, a, V0, m):\n",
    "    '''\n",
    "    Equation 13.15 for odd states\n",
    "    '''\n",
    "    \n",
    "    term1 = beta(E, V0, m) + alpha(E, m)*( 1/np.tan( alpha(E, m)*a/2 ) )\n",
    "    \n",
    "    term2 = beta(E, V0, m) - alpha(E, m)*np.tan(alpha(E, m)*a/2)\n",
    "    \n",
    "    # Odd solutions:\n",
    "    term3 = -1*(alpha(E, m)**2 + beta(E, V0, m)**2)*np.exp(-1*beta(E, V0, m)*d)\n",
    "    \n",
    "    return term1*term2 - term3\n"
   ]
  },
  {
   "cell_type": "markdown",
   "metadata": {},
   "source": [
    "## Constants"
   ]
  },
  {
   "cell_type": "code",
   "execution_count": 3,
   "metadata": {},
   "outputs": [],
   "source": [
    "h = 6.62607e-34  # 6.62607015×10−34 J⋅s\n",
    "hbar = h/(2*np.pi)\n",
    "a = 1  # well width\n",
    "m = 1 # mass of particle\n",
    "V0 = ((2*h**2)/(m*a**2))  # in Hartrees, to be consistent with the plot used in the textbook"
   ]
  },
  {
   "cell_type": "markdown",
   "metadata": {},
   "source": [
    "## Solving for bound state energies with d=0  (single well limit)\n",
    "\n",
    "The energies are the roots of equation 13.15"
   ]
  },
  {
   "cell_type": "code",
   "execution_count": 4,
   "metadata": {},
   "outputs": [
    {
     "name": "stdout",
     "output_type": "stream",
     "text": [
      "Even energies at d=0:\n",
      "[0.01340197 0.12028115 0.33193685 0.64170764]\n",
      "\n",
      "Odd energies at d=0:\n",
      "[0.05355338 0.21326004 0.47535754 0.82660429]\n"
     ]
    }
   ],
   "source": [
    "# expect 4 roots so x0 should be array of the approximate values of the 4 roots\n",
    "\n",
    "x0 = np.array([0.05, 0.23, 0.46, 0.68])*V0  # book shows these numbers are the approx values of the roots for E/V0\n",
    "                                         # so multiply by V0 to get approximate roots of E\n",
    "d = 0\n",
    "\n",
    "# even\n",
    "energies = fsolve(EigenvalueEquationEven, x0, args=(d, a, V0, m))\n",
    "print(\"Even energies at d=0:\")\n",
    "print(energies/V0)\n",
    "\n",
    "# odd\n",
    "energies = fsolve(EigenvalueEquationOdd, x0, args=(d, a, V0, m))\n",
    "print(\"\\nOdd energies at d=0:\")\n",
    "print(energies/V0)"
   ]
  },
  {
   "cell_type": "markdown",
   "metadata": {},
   "source": [
    "# Solving for energies at different well separations"
   ]
  },
  {
   "cell_type": "code",
   "execution_count": 5,
   "metadata": {},
   "outputs": [],
   "source": [
    "n = 1000  # number of d values to use\n",
    "d = np.linspace(0, 4, n)*a  # will find E values for d/a ranging from zero to 4\n",
    "x0 = np.array([0.05, 0.23, 0.46, 0.68])*V0\n",
    "\n",
    "# initialize arrays of energies\n",
    "even_energies = np.zeros((n, 4))\n",
    "odd_energies = np.zeros((n, 4))\n",
    "\n",
    "for i in range(len(d)):\n",
    "    even_energies[i] = fsolve(EigenvalueEquationEven, x0, args=(d[i], a, V0, m))/V0\n",
    "    odd_energies[i] = fsolve(EigenvalueEquationOdd, x0, args=(d[i], a, V0, m))/V0\n"
   ]
  },
  {
   "cell_type": "code",
   "execution_count": 6,
   "metadata": {},
   "outputs": [
    {
     "data": {
      "text/plain": [
       "array([0.01340197, 0.12028115, 0.33193685, 0.64170764])"
      ]
     },
     "execution_count": 6,
     "metadata": {},
     "output_type": "execute_result"
    }
   ],
   "source": [
    "even_energies[0]"
   ]
  },
  {
   "cell_type": "code",
   "execution_count": 7,
   "metadata": {},
   "outputs": [
    {
     "data": {
      "text/plain": [
       "array([0.05355338, 0.21326004, 0.47535754, 0.82660429])"
      ]
     },
     "execution_count": 7,
     "metadata": {},
     "output_type": "execute_result"
    }
   ],
   "source": [
    "odd_energies[0]"
   ]
  },
  {
   "cell_type": "code",
   "execution_count": 8,
   "metadata": {},
   "outputs": [],
   "source": [
    "# Take the transpose so that roots[i] corresponds to an array of the values of the ith energy level as a function of d/a\n",
    "even_energies = even_energies.T\n",
    "odd_energies = odd_energies.T"
   ]
  },
  {
   "cell_type": "code",
   "execution_count": 9,
   "metadata": {},
   "outputs": [
    {
     "data": {
      "image/png": "[encoded data removed]",
      "text/plain": [
       "<Figure size 432x288 with 1 Axes>"
      ]
     },
     "metadata": {
      "needs_background": "light"
     },
     "output_type": "display_data"
    }
   ],
   "source": [
    "# lowest even and odd energy levels\n",
    "plt.plot(d/a, even_energies[0])\n",
    "plt.plot(d/a, odd_energies[0])\n",
    "plt.show()"
   ]
  },
  {
   "cell_type": "markdown",
   "metadata": {},
   "source": [
    "# Plotting the Correlation Diagram"
   ]
  },
  {
   "cell_type": "code",
   "execution_count": 10,
   "metadata": {},
   "outputs": [
    {
     "data": {
      "image/png": "[encoded data removed]",
      "text/plain": [
       "<Figure size 432x288 with 1 Axes>"
      ]
     },
     "metadata": {
      "needs_background": "light"
     },
     "output_type": "display_data"
    }
   ],
   "source": [
    "# the whole correlation diagram\n",
    "plt.plot(d/a, even_energies[0])\n",
    "plt.plot(d/a, odd_energies[0])\n",
    "plt.plot(d/a, even_energies[1])\n",
    "plt.plot(d/a, odd_energies[1])\n",
    "plt.plot(d/a, even_energies[2])\n",
    "plt.plot(d/a, odd_energies[2])\n",
    "plt.plot(d/a, even_energies[3])\n",
    "plt.plot(d/a, odd_energies[3])\n",
    "\n",
    "plt.xlabel(\"d/a\")\n",
    "plt.ylabel(\"E/V0\")\n",
    "plt.title(\"Energy Eigenvalues of a Double Square Well Potential \\n as a Function of Well Separation\")\n",
    "plt.xlim([0,2])\n",
    "plt.ylim([0,0.9])\n",
    "plt.show()\n"
   ]
  }
 ],
 "metadata": {
  "kernelspec": {
   "display_name": "Python 3",
   "language": "python",
   "name": "python3"
  },
  "language_info": {
   "codemirror_mode": {
    "name": "ipython",
    "version": 3
   },
   "file_extension": ".py",
   "mimetype": "text/x-python",
   "name": "python",
   "nbconvert_exporter": "python",
   "pygments_lexer": "ipython3",
   "version": "3.7.6"
  }
 },
 "nbformat": 4,
 "nbformat_minor": 2
}
